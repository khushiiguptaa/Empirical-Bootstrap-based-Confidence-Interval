{
 "cells": [
  {
   "cell_type": "code",
   "execution_count": 3,
   "metadata": {},
   "outputs": [
    {
     "data": {
      "image/png": "[encoded data removed]",
      "text/plain": [
       "<Figure size 432x288 with 1 Axes>"
      ]
     },
     "metadata": {
      "needs_background": "light"
     },
     "output_type": "display_data"
    },
    {
     "name": "stdout",
     "output_type": "stream",
     "text": [
      "95.0 confidence interval 162.0 and 176.0\n"
     ]
    }
   ],
   "source": [
    "import numpy as np\n",
    "from pandas import read_csv\n",
    "from sklearn.utils import resample\n",
    "from sklearn.metrics import accuracy_score\n",
    "from matplotlib import pyplot\n",
    "\n",
    "x=np.array([180,162,158,172,168,150,171,183,165,176])\n",
    "\n",
    "n_interations=1000\n",
    "n_size=int(len(x))\n",
    "\n",
    "medians=list()\n",
    "for i in range(n_interations):\n",
    "    s=resample(x,n_samples=n_size);\n",
    "    m=np.median(s);\n",
    "    medians.append(m)\n",
    "pyplot.hist(medians)\n",
    "pyplot.show()  \n",
    "\n",
    "alpha=0.95\n",
    "p=((1.0-alpha)/2.0)*100\n",
    "lower=np.percentile(medians,p)\n",
    "\n",
    "p=(alpha+((1.0-alpha)/2.0))*100\n",
    "upper=np.percentile(medians,p)\n",
    "print('%.1f confidence interval %.1f and %.1f' % (alpha*100,lower,upper))"
   ]
  },
  {
   "cell_type": "code",
   "execution_count": null,
   "metadata": {},
   "outputs": [],
   "source": []
  }
 ],
 "metadata": {
  "kernelspec": {
   "display_name": "Python 3",
   "language": "python",
   "name": "python3"
  },
  "language_info": {
   "codemirror_mode": {
    "name": "ipython",
    "version": 3
   },
   "file_extension": ".py",
   "mimetype": "text/x-python",
   "name": "python",
   "nbconvert_exporter": "python",
   "pygments_lexer": "ipython3",
   "version": "3.7.4"
  }
 },
 "nbformat": 4,
 "nbformat_minor": 2
}
